{
 "cells": [
  {
   "cell_type": "code",
   "execution_count": 6,
   "id": "76f36eb2-ea4b-4f9f-ad92-65018c524060",
   "metadata": {},
   "outputs": [
    {
     "name": "stdout",
     "output_type": "stream",
     "text": [
      "Data cleaned and saved to cleaned_data_group.csv\n"
     ]
    }
   ],
   "source": [
    "import pandas as pd\n",
    "import re\n",
    "\n",
    "# Fungsi untuk memproses pesan\n",
    "def parse_message(row):\n",
    "    # Pastikan input berupa string\n",
    "    if not isinstance(row, str):\n",
    "        return None, None, None, row  # Jika bukan string, kembalikan nilai default\n",
    "\n",
    "    # Ekspresi reguler yang sesuai dengan format data (MM/DD/YY)\n",
    "    pattern = r'^(?P<tanggal>\\d{1,2}/\\d{1,2}/\\d{2}),? (?P<waktu>\\d{1,2}[:.]\\d{2}) - (?P<pengirim>[^:]+): (?P<pesan>.+)$'\n",
    "    match = re.match(pattern, row)\n",
    "    if match:\n",
    "        return match.group('tanggal'), match.group('waktu'), match.group('pengirim'), match.group('pesan')\n",
    "    return None, None, None, row  # Untuk pesan sistem atau tidak cocok\n",
    "\n",
    "# Fungsi untuk membersihkan teks\n",
    "def clean_text(text):\n",
    "    if isinstance(text, str):\n",
    "        # Hanya mempertahankan angka, huruf, dan tanda baca-tulis umum\n",
    "        return re.sub(r'[^a-zA-Z0-9.,:;!?()\\-\"\\'\"\\\" ]', '', text)\n",
    "    return text\n",
    "\n",
    "# Baca file CSV\n",
    "file_path = 'data_group.csv'  # Sesuaikan nama file dengan lokasi file Anda\n",
    "data = pd.read_csv(file_path, sep=';', header=None, encoding='utf-8')\n",
    "\n",
    "# Terapkan parsing pada kolom pertama\n",
    "data[0] = data[0].astype(str).fillna(\"\")  # Pastikan kolom adalah string dan tangani NaN\n",
    "parsed_data = data[0].apply(parse_message)\n",
    "\n",
    "# Buat DataFrame baru dengan header yang diinginkan\n",
    "df_cleaned = pd.DataFrame(parsed_data.tolist(), columns=['Tanggal', 'Waktu', 'Pengirim', 'Pesan'])\n",
    "\n",
    "# Pisahkan pesan sistem\n",
    "df_cleaned['Is_System_Message'] = df_cleaned['Tanggal'].isna()\n",
    "\n",
    "# Bersihkan DataFrame dengan hanya menyimpan baris valid\n",
    "df_valid = df_cleaned[~df_cleaned['Is_System_Message']].drop(columns=['Is_System_Message'])\n",
    "\n",
    "# Bersihkan setiap elemen dalam kolom 'Pesan'\n",
    "df_valid['Pesan'] = df_valid['Pesan'].apply(clean_text)\n",
    "\n",
    "# Simpan hasil ke file baru\n",
    "output_path = 'cleaned_data_group.csv'  # Simpan di direktori kerja saat ini\n",
    "df_valid.to_csv(output_path, index=False)\n",
    "\n",
    "print(f\"Data cleaned and saved to {output_path}\")\n"
   ]
  },
  {
   "cell_type": "code",
   "execution_count": 4,
   "id": "910c77c4-ac81-4989-87bf-8b73fa882ced",
   "metadata": {},
   "outputs": [
    {
     "name": "stdout",
     "output_type": "stream",
     "text": [
      "0    object\n",
      "dtype: object\n"
     ]
    }
   ],
   "source": [
    "print(data.dtypes)"
   ]
  },
  {
   "cell_type": "code",
   "execution_count": null,
   "id": "1e779b53-96a4-44d0-a6a2-6895eb12549a",
   "metadata": {},
   "outputs": [],
   "source": []
  }
 ],
 "metadata": {
  "kernelspec": {
   "display_name": "Python 3 (ipykernel)",
   "language": "python",
   "name": "python3"
  },
  "language_info": {
   "codemirror_mode": {
    "name": "ipython",
    "version": 3
   },
   "file_extension": ".py",
   "mimetype": "text/x-python",
   "name": "python",
   "nbconvert_exporter": "python",
   "pygments_lexer": "ipython3",
   "version": "3.10.7"
  }
 },
 "nbformat": 4,
 "nbformat_minor": 5
}
