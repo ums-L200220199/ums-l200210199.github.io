{
 "cells": [
  {
   "cell_type": "code",
   "execution_count": null,
   "id": "3e92e81b",
   "metadata": {
    "vscode": {
     "languageId": "plaintext"
    }
   },
   "outputs": [],
   "source": []
  },
  {
   "cell_type": "markdown",
   "id": "691cb397",
   "metadata": {},
   "source": []
  }
 ],
 "metadata": {
  "language_info": {
   "name": "python"
  }
 },
 "nbformat": 4,
 "nbformat_minor": 5
}
